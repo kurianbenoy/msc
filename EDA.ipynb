{
 "cells": [
  {
   "cell_type": "markdown",
   "metadata": {},
   "source": [
    "# Exploratory Data Analysis"
   ]
  },
  {
   "cell_type": "code",
   "execution_count": 13,
   "metadata": {},
   "outputs": [],
   "source": [
    "import pandas as pd\n",
    "import numpy as np\n",
    "import matplotlib.pyplot as plt\n",
    "import plotly.express as px\n",
    "import plotly.graph_objs as go\n",
    "import plotly.figure_factory as ff"
   ]
  },
  {
   "cell_type": "code",
   "execution_count": 3,
   "metadata": {},
   "outputs": [],
   "source": [
    "x = np.arange(0,100)\n",
    "y = np.arange(0, 100)"
   ]
  },
  {
   "cell_type": "code",
   "execution_count": 4,
   "metadata": {},
   "outputs": [],
   "source": [
    "speech = pd.read_csv('speech.tsv', sep='\\t')\n",
    "sentences = pd.read_csv('sentences.tsv', sep='\\t')\n",
    "users = pd.read_csv('users.tsv', sep='\\t')"
   ]
  },
  {
   "cell_type": "code",
   "execution_count": 5,
   "metadata": {},
   "outputs": [
    {
     "output_type": "execute_result",
     "data": {
      "text/plain": "                     id              sentence                          user  \\\n0  007b0xQfxvsmaYVRN7wS  mmujzi8AdOyGyLt95lNH  sutUe8ScwBdhopQvzr2VzUO28q03   \n1  022Bgg06giNtYdeKfvOs  eRBPHg3VacjjQeLRN1vB  2dEDqqeI3PZx0m2D9EBHUn7noTM2   \n2  048AWoisCWs2UWf0eEtA  rRKWjXZu1vlzFi0uqngC  mYTyO3jrvgZv1XU0pZwRbSwwuhC3   \n3  06o5F5pl9YRbHpSGQTKT  tQoJUX0JnMgsAnVOKfZw  2dEDqqeI3PZx0m2D9EBHUn7noTM2   \n4  07LFdQOyNS7TFj26pJUC  KZzOTLufc3E5QUuiGeJs  sutUe8ScwBdhopQvzr2VzUO28q03   \n\n                                          fileName  \\\n0  audio/01f276e0-b451-439f-b686-6856fc11e2b4.webm   \n1  audio/cd7ec9d9-adb4-45d8-a299-a631e3252991.webm   \n2  audio/8264035d-f9e6-4933-9f9e-97eb1ec83234.webm   \n3  audio/a21ab006-57bd-485e-bc3c-e5aa70e02575.webm   \n4  audio/f42dc879-fae8-4386-b6f4-187d5f29e828.webm   \n\n                                              sample           time     vote  \n0  https://firebasestorage.googleapis.com/v0/b/ma...  1584562139945  default  \n1  https://firebasestorage.googleapis.com/v0/b/ma...  1573228579118       11  \n2  https://firebasestorage.googleapis.com/v0/b/ma...  1580404212435  default  \n3  https://firebasestorage.googleapis.com/v0/b/ma...  1573229287922       11  \n4  https://firebasestorage.googleapis.com/v0/b/ma...  1584562993254  default  ",
      "text/html": "<div>\n<style scoped>\n    .dataframe tbody tr th:only-of-type {\n        vertical-align: middle;\n    }\n\n    .dataframe tbody tr th {\n        vertical-align: top;\n    }\n\n    .dataframe thead th {\n        text-align: right;\n    }\n</style>\n<table border=\"1\" class=\"dataframe\">\n  <thead>\n    <tr style=\"text-align: right;\">\n      <th></th>\n      <th>id</th>\n      <th>sentence</th>\n      <th>user</th>\n      <th>fileName</th>\n      <th>sample</th>\n      <th>time</th>\n      <th>vote</th>\n    </tr>\n  </thead>\n  <tbody>\n    <tr>\n      <th>0</th>\n      <td>007b0xQfxvsmaYVRN7wS</td>\n      <td>mmujzi8AdOyGyLt95lNH</td>\n      <td>sutUe8ScwBdhopQvzr2VzUO28q03</td>\n      <td>audio/01f276e0-b451-439f-b686-6856fc11e2b4.webm</td>\n      <td>https://firebasestorage.googleapis.com/v0/b/ma...</td>\n      <td>1584562139945</td>\n      <td>default</td>\n    </tr>\n    <tr>\n      <th>1</th>\n      <td>022Bgg06giNtYdeKfvOs</td>\n      <td>eRBPHg3VacjjQeLRN1vB</td>\n      <td>2dEDqqeI3PZx0m2D9EBHUn7noTM2</td>\n      <td>audio/cd7ec9d9-adb4-45d8-a299-a631e3252991.webm</td>\n      <td>https://firebasestorage.googleapis.com/v0/b/ma...</td>\n      <td>1573228579118</td>\n      <td>11</td>\n    </tr>\n    <tr>\n      <th>2</th>\n      <td>048AWoisCWs2UWf0eEtA</td>\n      <td>rRKWjXZu1vlzFi0uqngC</td>\n      <td>mYTyO3jrvgZv1XU0pZwRbSwwuhC3</td>\n      <td>audio/8264035d-f9e6-4933-9f9e-97eb1ec83234.webm</td>\n      <td>https://firebasestorage.googleapis.com/v0/b/ma...</td>\n      <td>1580404212435</td>\n      <td>default</td>\n    </tr>\n    <tr>\n      <th>3</th>\n      <td>06o5F5pl9YRbHpSGQTKT</td>\n      <td>tQoJUX0JnMgsAnVOKfZw</td>\n      <td>2dEDqqeI3PZx0m2D9EBHUn7noTM2</td>\n      <td>audio/a21ab006-57bd-485e-bc3c-e5aa70e02575.webm</td>\n      <td>https://firebasestorage.googleapis.com/v0/b/ma...</td>\n      <td>1573229287922</td>\n      <td>11</td>\n    </tr>\n    <tr>\n      <th>4</th>\n      <td>07LFdQOyNS7TFj26pJUC</td>\n      <td>KZzOTLufc3E5QUuiGeJs</td>\n      <td>sutUe8ScwBdhopQvzr2VzUO28q03</td>\n      <td>audio/f42dc879-fae8-4386-b6f4-187d5f29e828.webm</td>\n      <td>https://firebasestorage.googleapis.com/v0/b/ma...</td>\n      <td>1584562993254</td>\n      <td>default</td>\n    </tr>\n  </tbody>\n</table>\n</div>"
     },
     "metadata": {},
     "execution_count": 5
    }
   ],
   "source": [
    "speech.head()"
   ]
  },
  {
   "cell_type": "code",
   "execution_count": 6,
   "metadata": {},
   "outputs": [
    {
     "output_type": "execute_result",
     "data": {
      "text/plain": "                     id                                      sentence  \\\n0  08vCWSixKguCxbN8Noel  സൂചികൊണ്ടെടുക്കേണ്ടത് തൂമ്പ കൊണ്ടെടുക്കരുത്.   \n1  09qAOEXP8rX17zgrzNb0                              കയ്യിൽ കാശുണ്ടോ?   \n2  0AVDnHgMnGBJ9aexjJAk                       ഞാൻ ഒരു പാട്ട് പാടട്ടെ.   \n3  0LztDTFtWsAw6JCpvx1S                                 സമയമെത്രയായി?   \n4  0RUQfytlKJx3E0rM2hwM                        ഓണം വരാനൊരു മൂലം വേണം.   \n\n       category  \n0       proverb  \n1  conversation  \n2  conversation  \n3  conversation  \n4       proverb  ",
      "text/html": "<div>\n<style scoped>\n    .dataframe tbody tr th:only-of-type {\n        vertical-align: middle;\n    }\n\n    .dataframe tbody tr th {\n        vertical-align: top;\n    }\n\n    .dataframe thead th {\n        text-align: right;\n    }\n</style>\n<table border=\"1\" class=\"dataframe\">\n  <thead>\n    <tr style=\"text-align: right;\">\n      <th></th>\n      <th>id</th>\n      <th>sentence</th>\n      <th>category</th>\n    </tr>\n  </thead>\n  <tbody>\n    <tr>\n      <th>0</th>\n      <td>08vCWSixKguCxbN8Noel</td>\n      <td>സൂചികൊണ്ടെടുക്കേണ്ടത് തൂമ്പ കൊണ്ടെടുക്കരുത്.</td>\n      <td>proverb</td>\n    </tr>\n    <tr>\n      <th>1</th>\n      <td>09qAOEXP8rX17zgrzNb0</td>\n      <td>കയ്യിൽ കാശുണ്ടോ?</td>\n      <td>conversation</td>\n    </tr>\n    <tr>\n      <th>2</th>\n      <td>0AVDnHgMnGBJ9aexjJAk</td>\n      <td>ഞാൻ ഒരു പാട്ട് പാടട്ടെ.</td>\n      <td>conversation</td>\n    </tr>\n    <tr>\n      <th>3</th>\n      <td>0LztDTFtWsAw6JCpvx1S</td>\n      <td>സമയമെത്രയായി?</td>\n      <td>conversation</td>\n    </tr>\n    <tr>\n      <th>4</th>\n      <td>0RUQfytlKJx3E0rM2hwM</td>\n      <td>ഓണം വരാനൊരു മൂലം വേണം.</td>\n      <td>proverb</td>\n    </tr>\n  </tbody>\n</table>\n</div>"
     },
     "metadata": {},
     "execution_count": 6
    }
   ],
   "source": [
    "sentences.head()"
   ]
  },
  {
   "cell_type": "code",
   "execution_count": 14,
   "metadata": {},
   "outputs": [
    {
     "output_type": "execute_result",
     "data": {
      "text/plain": "array(['proverb', 'conversation', 'story', 'default'], dtype=object)"
     },
     "metadata": {},
     "execution_count": 14
    }
   ],
   "source": [
    "sentences['category'].unique()"
   ]
  },
  {
   "cell_type": "code",
   "execution_count": 7,
   "metadata": {},
   "outputs": [
    {
     "output_type": "execute_result",
     "data": {
      "text/plain": "                             id              name\n0  09eJLYsUg8XByGwaPX3P6oykfui2      Manu Kurakar\n1  0aokYrDll4TMRR3WvXVvSMtbQBA3  VIDENSHUS VIMALA\n2  10gWfkC1DFYukBgs1OI0EJEz41m2    Raju Hariharan\n3  11nKjHmpoZPhPDxX60Dt2Gxb0DD2        NuraaruN88\n4  19n9jw6zdmVj7kfN6FnU9PZTxk43     Anirudh Sankr",
      "text/html": "<div>\n<style scoped>\n    .dataframe tbody tr th:only-of-type {\n        vertical-align: middle;\n    }\n\n    .dataframe tbody tr th {\n        vertical-align: top;\n    }\n\n    .dataframe thead th {\n        text-align: right;\n    }\n</style>\n<table border=\"1\" class=\"dataframe\">\n  <thead>\n    <tr style=\"text-align: right;\">\n      <th></th>\n      <th>id</th>\n      <th>name</th>\n    </tr>\n  </thead>\n  <tbody>\n    <tr>\n      <th>0</th>\n      <td>09eJLYsUg8XByGwaPX3P6oykfui2</td>\n      <td>Manu Kurakar</td>\n    </tr>\n    <tr>\n      <th>1</th>\n      <td>0aokYrDll4TMRR3WvXVvSMtbQBA3</td>\n      <td>VIDENSHUS VIMALA</td>\n    </tr>\n    <tr>\n      <th>2</th>\n      <td>10gWfkC1DFYukBgs1OI0EJEz41m2</td>\n      <td>Raju Hariharan</td>\n    </tr>\n    <tr>\n      <th>3</th>\n      <td>11nKjHmpoZPhPDxX60Dt2Gxb0DD2</td>\n      <td>NuraaruN88</td>\n    </tr>\n    <tr>\n      <th>4</th>\n      <td>19n9jw6zdmVj7kfN6FnU9PZTxk43</td>\n      <td>Anirudh Sankr</td>\n    </tr>\n  </tbody>\n</table>\n</div>"
     },
     "metadata": {},
     "execution_count": 7
    }
   ],
   "source": [
    "users.head()"
   ]
  },
  {
   "cell_type": "code",
   "execution_count": 8,
   "metadata": {},
   "outputs": [
    {
     "output_type": "execute_result",
     "data": {
      "text/plain": "                        id              sentence  \\\n195   6KasOTU9WIrWwduqIC0a  R1KTozi27iXmES9HsIQa   \n1042  U6L39W3tW9RBRoAzYLoJ  1iOh0HyHqHvssHEcZ3pk   \n151   4nejqaQkqFLfxaE2gSkP  2DZmq3g7aq2fV8eA0Rzw   \n429   Cs1I8PkxG8caDvpvz92q  1VcEKd1i1cMVoagQGucH   \n1251  aXVFFdBbZj53yL8EG4hX  1N4JVZwEYimlYUsRV6j7   \n...                    ...                   ...   \n269   7yRaBj2aaYYSyVgWFuSk  5FiRVyH58OhlpIak6NCX   \n362   Am1rGSVWKtn8V55pGTzm  62diFe8JTsfzIvHuPvDK   \n568   GoBkEVFnaocyn2V5BDwL  64X9NoKgt34aed0ojMbK   \n1241  aDIIh59aq8dshPNSW25L  4rIaKO0jatDBHYo7mxF6   \n695   K7RHUh006u8Zwz2983G6  6gMZfsFUrRUEPZGORBYM   \n\n                              user  \\\n195   zvEnGniAnhRDK2NdpEWSGMLLnun2   \n1042  ziMhtfmZdiUqJ4TjXIWgC00HSHx1   \n151   ziMhtfmZdiUqJ4TjXIWgC00HSHx1   \n429   ziMhtfmZdiUqJ4TjXIWgC00HSHx1   \n1251  ziMhtfmZdiUqJ4TjXIWgC00HSHx1   \n...                            ...   \n269   09eJLYsUg8XByGwaPX3P6oykfui2   \n362   09eJLYsUg8XByGwaPX3P6oykfui2   \n568   09eJLYsUg8XByGwaPX3P6oykfui2   \n1241  09eJLYsUg8XByGwaPX3P6oykfui2   \n695   09eJLYsUg8XByGwaPX3P6oykfui2   \n\n                                             fileName  \\\n195   audio/2112e7b5-3c6f-4814-9e51-116184631309.webm   \n1042  audio/6b55791d-3c55-40fd-b7bc-7635b88f36ab.webm   \n151   audio/e8ec0af5-fbdc-40a4-be57-5afd321ae86f.webm   \n429   audio/2b29afa3-2951-4db4-9276-8dc524b5cb4a.webm   \n1251  audio/16636f5e-3195-4564-84c0-dce6011f8438.webm   \n...                                               ...   \n269   audio/2d8459ab-83d1-48fe-9f3b-4bb295ee061d.webm   \n362   audio/f6798051-f11a-4083-beeb-3dd91d8f802e.webm   \n568   audio/f4b9c15e-53e4-4317-af5d-597e91c5652d.webm   \n1241  audio/4c42c0df-1401-4b76-bcf9-7b235652aa8f.webm   \n695   audio/9d421085-c184-4dea-b068-badb7a0c2357.webm   \n\n                                                 sample           time  \\\n195   https://firebasestorage.googleapis.com/v0/b/ma...  1586976423903   \n1042  https://firebasestorage.googleapis.com/v0/b/ma...  1572611043995   \n151   https://firebasestorage.googleapis.com/v0/b/ma...  1572611034514   \n429   https://firebasestorage.googleapis.com/v0/b/ma...  1572611048680   \n1251  https://firebasestorage.googleapis.com/v0/b/ma...  1572611052462   \n...                                                 ...            ...   \n269   https://firebasestorage.googleapis.com/v0/b/ma...  1573399453170   \n362   https://firebasestorage.googleapis.com/v0/b/ma...  1573399476827   \n568   https://firebasestorage.googleapis.com/v0/b/ma...  1573399502315   \n1241  https://firebasestorage.googleapis.com/v0/b/ma...  1573399381785   \n695   https://firebasestorage.googleapis.com/v0/b/ma...  1573399522550   \n\n         vote  \n195   default  \n1042  default  \n151        -4  \n429   default  \n1251       -4  \n...       ...  \n269         4  \n362         4  \n568   default  \n1241        4  \n695   default  \n\n[2074 rows x 7 columns]",
      "text/html": "<div>\n<style scoped>\n    .dataframe tbody tr th:only-of-type {\n        vertical-align: middle;\n    }\n\n    .dataframe tbody tr th {\n        vertical-align: top;\n    }\n\n    .dataframe thead th {\n        text-align: right;\n    }\n</style>\n<table border=\"1\" class=\"dataframe\">\n  <thead>\n    <tr style=\"text-align: right;\">\n      <th></th>\n      <th>id</th>\n      <th>sentence</th>\n      <th>user</th>\n      <th>fileName</th>\n      <th>sample</th>\n      <th>time</th>\n      <th>vote</th>\n    </tr>\n  </thead>\n  <tbody>\n    <tr>\n      <th>195</th>\n      <td>6KasOTU9WIrWwduqIC0a</td>\n      <td>R1KTozi27iXmES9HsIQa</td>\n      <td>zvEnGniAnhRDK2NdpEWSGMLLnun2</td>\n      <td>audio/2112e7b5-3c6f-4814-9e51-116184631309.webm</td>\n      <td>https://firebasestorage.googleapis.com/v0/b/ma...</td>\n      <td>1586976423903</td>\n      <td>default</td>\n    </tr>\n    <tr>\n      <th>1042</th>\n      <td>U6L39W3tW9RBRoAzYLoJ</td>\n      <td>1iOh0HyHqHvssHEcZ3pk</td>\n      <td>ziMhtfmZdiUqJ4TjXIWgC00HSHx1</td>\n      <td>audio/6b55791d-3c55-40fd-b7bc-7635b88f36ab.webm</td>\n      <td>https://firebasestorage.googleapis.com/v0/b/ma...</td>\n      <td>1572611043995</td>\n      <td>default</td>\n    </tr>\n    <tr>\n      <th>151</th>\n      <td>4nejqaQkqFLfxaE2gSkP</td>\n      <td>2DZmq3g7aq2fV8eA0Rzw</td>\n      <td>ziMhtfmZdiUqJ4TjXIWgC00HSHx1</td>\n      <td>audio/e8ec0af5-fbdc-40a4-be57-5afd321ae86f.webm</td>\n      <td>https://firebasestorage.googleapis.com/v0/b/ma...</td>\n      <td>1572611034514</td>\n      <td>-4</td>\n    </tr>\n    <tr>\n      <th>429</th>\n      <td>Cs1I8PkxG8caDvpvz92q</td>\n      <td>1VcEKd1i1cMVoagQGucH</td>\n      <td>ziMhtfmZdiUqJ4TjXIWgC00HSHx1</td>\n      <td>audio/2b29afa3-2951-4db4-9276-8dc524b5cb4a.webm</td>\n      <td>https://firebasestorage.googleapis.com/v0/b/ma...</td>\n      <td>1572611048680</td>\n      <td>default</td>\n    </tr>\n    <tr>\n      <th>1251</th>\n      <td>aXVFFdBbZj53yL8EG4hX</td>\n      <td>1N4JVZwEYimlYUsRV6j7</td>\n      <td>ziMhtfmZdiUqJ4TjXIWgC00HSHx1</td>\n      <td>audio/16636f5e-3195-4564-84c0-dce6011f8438.webm</td>\n      <td>https://firebasestorage.googleapis.com/v0/b/ma...</td>\n      <td>1572611052462</td>\n      <td>-4</td>\n    </tr>\n    <tr>\n      <th>...</th>\n      <td>...</td>\n      <td>...</td>\n      <td>...</td>\n      <td>...</td>\n      <td>...</td>\n      <td>...</td>\n      <td>...</td>\n    </tr>\n    <tr>\n      <th>269</th>\n      <td>7yRaBj2aaYYSyVgWFuSk</td>\n      <td>5FiRVyH58OhlpIak6NCX</td>\n      <td>09eJLYsUg8XByGwaPX3P6oykfui2</td>\n      <td>audio/2d8459ab-83d1-48fe-9f3b-4bb295ee061d.webm</td>\n      <td>https://firebasestorage.googleapis.com/v0/b/ma...</td>\n      <td>1573399453170</td>\n      <td>4</td>\n    </tr>\n    <tr>\n      <th>362</th>\n      <td>Am1rGSVWKtn8V55pGTzm</td>\n      <td>62diFe8JTsfzIvHuPvDK</td>\n      <td>09eJLYsUg8XByGwaPX3P6oykfui2</td>\n      <td>audio/f6798051-f11a-4083-beeb-3dd91d8f802e.webm</td>\n      <td>https://firebasestorage.googleapis.com/v0/b/ma...</td>\n      <td>1573399476827</td>\n      <td>4</td>\n    </tr>\n    <tr>\n      <th>568</th>\n      <td>GoBkEVFnaocyn2V5BDwL</td>\n      <td>64X9NoKgt34aed0ojMbK</td>\n      <td>09eJLYsUg8XByGwaPX3P6oykfui2</td>\n      <td>audio/f4b9c15e-53e4-4317-af5d-597e91c5652d.webm</td>\n      <td>https://firebasestorage.googleapis.com/v0/b/ma...</td>\n      <td>1573399502315</td>\n      <td>default</td>\n    </tr>\n    <tr>\n      <th>1241</th>\n      <td>aDIIh59aq8dshPNSW25L</td>\n      <td>4rIaKO0jatDBHYo7mxF6</td>\n      <td>09eJLYsUg8XByGwaPX3P6oykfui2</td>\n      <td>audio/4c42c0df-1401-4b76-bcf9-7b235652aa8f.webm</td>\n      <td>https://firebasestorage.googleapis.com/v0/b/ma...</td>\n      <td>1573399381785</td>\n      <td>4</td>\n    </tr>\n    <tr>\n      <th>695</th>\n      <td>K7RHUh006u8Zwz2983G6</td>\n      <td>6gMZfsFUrRUEPZGORBYM</td>\n      <td>09eJLYsUg8XByGwaPX3P6oykfui2</td>\n      <td>audio/9d421085-c184-4dea-b068-badb7a0c2357.webm</td>\n      <td>https://firebasestorage.googleapis.com/v0/b/ma...</td>\n      <td>1573399522550</td>\n      <td>default</td>\n    </tr>\n  </tbody>\n</table>\n<p>2074 rows × 7 columns</p>\n</div>"
     },
     "metadata": {},
     "execution_count": 8
    }
   ],
   "source": [
    "speech.sort_values('user', ascending=False)"
   ]
  },
  {
   "cell_type": "code",
   "execution_count": 9,
   "metadata": {},
   "outputs": [
    {
     "output_type": "execute_result",
     "data": {
      "text/plain": "(2074, 7)"
     },
     "metadata": {},
     "execution_count": 9
    }
   ],
   "source": [
    "speech.shape"
   ]
  },
  {
   "cell_type": "markdown",
   "metadata": {},
   "source": [
    "<div class=h3> No of sentences in various categories</div>"
   ]
  },
  {
   "cell_type": "code",
   "execution_count": 10,
   "metadata": {},
   "outputs": [
    {
     "output_type": "display_data",
     "data": {
      "application/vnd.plotly.v1+json": {
       "config": {
        "plotlyServerURL": "https://plot.ly"
       },
       "data": [
        {
         "domain": {
          "x": [
           0,
           1
          ],
          "y": [
           0,
           1
          ]
         },
         "hovertemplate": "category=%{label}<br>id=%{value}<extra></extra>",
         "labels": [
          "proverb",
          "conversation",
          "conversation",
          "conversation",
          "proverb",
          "conversation",
          "proverb",
          "conversation",
          "conversation",
          "story",
          "story",
          "proverb",
          "conversation",
          "proverb",
          "conversation",
          "story",
          "proverb",
          "conversation",
          "proverb",
          "default",
          "conversation",
          "proverb",
          "proverb",
          "proverb",
          "conversation",
          "proverb",
          "conversation",
          "conversation",
          "story",
          "story",
          "story",
          "conversation",
          "story",
          "proverb",
          "story",
          "conversation",
          "proverb",
          "proverb",
          "proverb",
          "proverb",
          "conversation",
          "proverb",
          "story",
          "proverb",
          "proverb",
          "conversation",
          "conversation",
          "conversation",
          "proverb",
          "story",
          "story",
          "proverb",
          "proverb",
          "proverb",
          "story",
          "story",
          "conversation",
          "conversation",
          "conversation",
          "conversation",
          "proverb",
          "conversation",
          "conversation",
          "proverb",
          "story",
          "conversation",
          "conversation",
          "conversation",
          "story",
          "story",
          "story",
          "conversation",
          "proverb",
          "conversation",
          "proverb",
          "story",
          "story",
          "proverb",
          "proverb",
          "conversation",
          "proverb",
          "conversation",
          "proverb",
          "proverb",
          "conversation",
          "conversation",
          "story",
          "story",
          "story",
          "proverb",
          "conversation",
          "default",
          "proverb",
          "conversation",
          "proverb",
          "story",
          "proverb",
          "conversation",
          "proverb",
          "story",
          "conversation",
          "conversation",
          "story",
          "conversation",
          "proverb",
          "conversation",
          "story",
          "proverb",
          "story",
          "proverb",
          "story",
          "conversation",
          "proverb",
          "conversation",
          "proverb",
          "story",
          "proverb",
          "conversation",
          "conversation",
          "conversation",
          "story",
          "proverb",
          "conversation",
          "proverb",
          "conversation",
          "story",
          "conversation",
          "default",
          "proverb",
          "proverb",
          "conversation",
          "proverb",
          "conversation",
          "conversation",
          "proverb",
          "conversation",
          "story",
          "proverb",
          "conversation",
          "proverb",
          "story",
          "conversation",
          "conversation",
          "conversation",
          "proverb",
          "proverb",
          "conversation",
          "story",
          "conversation",
          "proverb",
          "conversation",
          "proverb",
          "conversation",
          "conversation",
          "default",
          "story",
          "conversation",
          "conversation",
          "proverb",
          "proverb",
          "proverb",
          "proverb",
          "story",
          "proverb",
          "conversation",
          "conversation",
          "conversation",
          "proverb",
          "story",
          "story",
          "story",
          "proverb",
          "story",
          "conversation",
          "proverb",
          "proverb",
          "story",
          "conversation",
          "proverb",
          "proverb",
          "conversation",
          "proverb",
          "story",
          "conversation",
          "story",
          "conversation",
          "proverb",
          "default",
          "conversation",
          "proverb",
          "story",
          "proverb",
          "default",
          "conversation",
          "conversation",
          "proverb",
          "conversation",
          "story",
          "conversation",
          "proverb",
          "story",
          "proverb",
          "conversation",
          "conversation",
          "proverb",
          "proverb",
          "proverb",
          "conversation",
          "story",
          "conversation",
          "story",
          "story",
          "conversation",
          "conversation",
          "proverb",
          "proverb",
          "proverb",
          "conversation",
          "story",
          "conversation",
          "story",
          "conversation",
          "story",
          "story",
          "conversation",
          "conversation",
          "story",
          "proverb",
          "conversation",
          "conversation",
          "proverb",
          "story",
          "conversation",
          "conversation",
          "story",
          "proverb",
          "conversation",
          "proverb",
          "story",
          "conversation",
          "conversation",
          "conversation",
          "story",
          "story",
          "proverb",
          "proverb",
          "proverb",
          "proverb",
          "conversation",
          "conversation",
          "conversation",
          "proverb",
          "story",
          "conversation",
          "conversation",
          "conversation",
          "conversation",
          "proverb",
          "proverb",
          "story",
          "conversation",
          "proverb",
          "conversation",
          "conversation",
          "story",
          "proverb",
          "conversation",
          "conversation",
          "proverb",
          "conversation",
          "proverb",
          "story",
          "conversation",
          "proverb",
          "conversation",
          "conversation",
          "conversation",
          "conversation",
          "proverb",
          "story",
          "proverb",
          "story",
          "conversation",
          "story",
          "story",
          "conversation",
          "conversation",
          "proverb",
          "conversation",
          "conversation",
          "proverb",
          "conversation",
          "story",
          "default",
          "conversation",
          "proverb",
          "proverb",
          "story",
          "conversation",
          "proverb",
          "conversation",
          "conversation",
          "proverb",
          "story",
          "proverb",
          "conversation",
          "conversation",
          "proverb",
          "proverb",
          "conversation",
          "proverb",
          "story",
          "default",
          "story",
          "default",
          "conversation",
          "conversation",
          "conversation",
          "default",
          "story",
          "proverb",
          "conversation",
          "story",
          "proverb",
          "conversation",
          "conversation",
          "proverb",
          "story",
          "conversation",
          "proverb",
          "conversation",
          "conversation",
          "story",
          "story",
          "conversation",
          "proverb",
          "story",
          "proverb",
          "story",
          "conversation",
          "conversation",
          "proverb",
          "story",
          "story",
          "proverb",
          "conversation",
          "default",
          "story",
          "conversation",
          "proverb",
          "proverb",
          "proverb",
          "conversation",
          "conversation",
          "conversation",
          "proverb",
          "conversation",
          "proverb",
          "conversation",
          "proverb",
          "default",
          "conversation",
          "story",
          "conversation",
          "story",
          "proverb",
          "story",
          "conversation",
          "conversation",
          "story",
          "story",
          "conversation",
          "story",
          "conversation",
          "proverb",
          "story",
          "proverb",
          "proverb",
          "conversation",
          "proverb",
          "conversation",
          "conversation",
          "default",
          "conversation",
          "story",
          "story",
          "story",
          "conversation",
          "conversation",
          "proverb",
          "proverb",
          "proverb",
          "conversation",
          "story",
          "conversation",
          "proverb",
          "story",
          "story",
          "story",
          "proverb",
          "conversation",
          "default",
          "proverb",
          "proverb",
          "proverb",
          "proverb",
          "proverb",
          "proverb",
          "conversation",
          "conversation",
          "conversation",
          "proverb",
          "story",
          "story",
          "conversation",
          "conversation",
          "proverb",
          "conversation",
          "conversation",
          "proverb",
          "proverb",
          "story",
          "conversation",
          "proverb",
          "conversation",
          "proverb",
          "proverb",
          "story",
          "proverb",
          "story",
          "story",
          "conversation",
          "story",
          "proverb",
          "conversation",
          "conversation",
          "proverb",
          "conversation",
          "proverb",
          "conversation",
          "conversation",
          "conversation",
          "conversation",
          "proverb",
          "proverb",
          "conversation",
          "conversation",
          "story",
          "story",
          "story",
          "story",
          "proverb",
          "proverb",
          "conversation",
          "conversation",
          "conversation",
          "proverb",
          "story",
          "conversation",
          "conversation",
          "conversation",
          "story",
          "conversation",
          "conversation",
          "proverb",
          "conversation",
          "conversation",
          "proverb",
          "proverb",
          "proverb",
          "conversation",
          "story",
          "story",
          "story",
          "proverb",
          "story",
          "proverb",
          "conversation",
          "conversation",
          "default",
          "proverb",
          "proverb",
          "conversation",
          "story",
          "proverb",
          "conversation",
          "proverb",
          "conversation",
          "proverb",
          "proverb",
          "conversation",
          "proverb",
          "conversation",
          "proverb",
          "proverb",
          "proverb",
          "proverb",
          "proverb",
          "conversation",
          "proverb",
          "conversation",
          "conversation",
          "story",
          "conversation",
          "story",
          "proverb",
          "story",
          "conversation",
          "story"
         ],
         "legendgroup": "",
         "name": "",
         "showlegend": true,
         "type": "pie",
         "values": [
          "08vCWSixKguCxbN8Noel",
          "09qAOEXP8rX17zgrzNb0",
          "0AVDnHgMnGBJ9aexjJAk",
          "0LztDTFtWsAw6JCpvx1S",
          "0RUQfytlKJx3E0rM2hwM",
          "0eUvBAY5ARaVbI7UwOGF",
          "0l1rvmmCWc8YPDoRU1DS",
          "0xL1NAOQqafioHonN97B",
          "11Cf12P8ZfOxjHavJIwY",
          "1Hy4Q31lKZKQ7t6iTIDL",
          "1JRgDGk7jZfp7QP0yngg",
          "1N4JVZwEYimlYUsRV6j7",
          "1UD0KFAUmjQhS3rIpMQY",
          "1VcEKd1i1cMVoagQGucH",
          "1ce5HG1oldwt0GrVPNhb",
          "1fYWoIfqtXbrEyKxBGgj",
          "1iOh0HyHqHvssHEcZ3pk",
          "21d0MLIjGnePBwmWNMFb",
          "250PCDTBotWhRLUsBvou",
          "2DZmq3g7aq2fV8eA0Rzw",
          "2J7gpjj3B5xDYzzrF8uF",
          "2J9ZPxFLs33rAO6RNuTK",
          "2gV6uvB92hHCSuVBaKOD",
          "2hkQEfpIiHauS7txxAH7",
          "2xPrlN5JTe9G37E3LJEm",
          "3AP3GfbDMTRYX3k2me9z",
          "3QFpZN6MhXHm6Bs6ZV2u",
          "3eNkC3RSyOyF0dXGiIjH",
          "3iVrnLNhIGV41NcK3cc3",
          "3viTILYgfE6l753BjoDE",
          "41lFcqy2UQaIqKTyFW8H",
          "44nCglJasJ3Vgmx2YV8W",
          "4BnFARudaAO7jS5jpKEl",
          "4Gp2fBe40QWF0avwbOYY",
          "4KkVdPt28GnnsgdKViuu",
          "4dnRnUZDM2CdqxA0c3dj",
          "4lfICTaD7sIhDnvDj2Cw",
          "4rIaKO0jatDBHYo7mxF6",
          "4zAPfOf8fB8NNIfAmhHz",
          "53LE9U5cJYbDQx8lqKxo",
          "5Ey5U9TTMdVCVR6446BV",
          "5FiRVyH58OhlpIak6NCX",
          "5Rd3CQ1ISSiglrCuhUD3",
          "62diFe8JTsfzIvHuPvDK",
          "64X9NoKgt34aed0ojMbK",
          "6919TGkO5G6HG5VoHlsG",
          "6Q8JWMRwkLR8RkCBBECe",
          "6TUBh67rmiLIzDzsRE2t",
          "6UbzLaqqWSExBW6IV71S",
          "6WQhhmr84N9OdW7pChxL",
          "6aKgeKmLru3s6NyXsjFi",
          "6gMZfsFUrRUEPZGORBYM",
          "6warY02cRQVo7s8hBkOZ",
          "6yTC5qXbJeApVJSjQSlQ",
          "738Fdb68OTxS5trnzBBy",
          "75jG65fcMrGDmdgwmodP",
          "77yV1tMsYnscDfGC6KDP",
          "7ML0KNPSXXCdQt7dDp6m",
          "7PXmZSG7lwWPYUiAhrZG",
          "7VMNYO01OJLsxmHvj0PT",
          "7dkrYurOslwMIrZ8Vyt4",
          "7rxAPuH7MkDA5cLsDm61",
          "7u92gvqUVNuinYJpnJgN",
          "7uIlR6WeXojNq1pL70cO",
          "8BDySWjEwWfnhBUoHXbM",
          "8Ok0HXcWrQgA3C68VmWg",
          "8ZOYxbzmKiw8kgGTsaC0",
          "94oj2o0mYCIKZOQRttG1",
          "97s6M3XDpG0HnyeBii6Q",
          "98WfEubzUhzm9KyS0R7K",
          "99iiOrDYYoEtbIcASlq4",
          "9Ci2kaWl19RzNgV1Yt7i",
          "9IaggbAWAiecX7HfNPXZ",
          "9LSt9poiWixK4kBGThRC",
          "9LTHRMzJGva8LKfew0xg",
          "9o7V7BvtlqHZnbCXjuCG",
          "9qDS70y5odwBjbmTVtj8",
          "9ryZPvZw8IEXin5MNAG0",
          "9vHDYPhSNXyGfWn7WFtL",
          "AG6jovGpzg1tEbxcpBSL",
          "AGsexxB6MbmehwH4KTIX",
          "AVruZfO9SlIrMcf1uBLf",
          "Apxe5zswIYHjLGlqh7u2",
          "AvNhebK4dxSvkqjUSn1b",
          "AvhEURXPIR79jXdr3c7D",
          "AwFN0WvgbuQIle2pGRHl",
          "B3QVjRO14RwtcoBE1698",
          "BO1QaTiJRRe7Z5554AQU",
          "BQSy6P2WgClkxXrkT0Yh",
          "BiPTF8qKnbpPQuKAfykI",
          "BicQYsWsdYKRTaCygHK2",
          "BlNdAJfLGlj1m4Mh65yz",
          "BnW9pUgzzzR37CwwakQE",
          "BqlJ0aH5lgmwbmb69XA5",
          "Bzuwd6H9Do89tYbQdvm9",
          "C076ChfXya0T9DHbk4yS",
          "C40L29CTWv9roVNYtuNe",
          "C5UFsuenyDn8i1yz6bJ9",
          "C6IffTB9j05IW13AfEPh",
          "C6qUuvBc1TfnSlssH0Gi",
          "C8FQ1TdSbGwjKXm9yWxt",
          "CLEzXXlUpoe2BlloVT6h",
          "CNFhhcQ5QflYIzOUD4Ji",
          "CXiNPyPdCMNWxFS0MbBG",
          "CfbNRQ7s3vsagHOqtjF9",
          "ChYgNO9QLW3PexrDYYGu",
          "Cmur4sNifFuUIertgjnH",
          "Cs0z0n23s2QF8TLryULR",
          "D4NgspNxbcLpQ1adnB9I",
          "DPqYsxpzpMkDazuNN8y4",
          "DQcow2UioD3rKKkqMJfU",
          "DShVKfdzXst8X0dfZn3A",
          "DbSMDtFmnAj1jCMGYb8b",
          "DjXTs9HuQtG8BLxXSRnR",
          "DsjiwhtCLdVGtE4i1223",
          "DuLxxDANly9BEGVIVtYP",
          "DwVp4uS32kptJ3nUG1iU",
          "EETpF7naMHrzo8nAkuID",
          "EEce9GBn3z6hPVUFhHBF",
          "El8iBce7pFHCKgQVhCAo",
          "EyvvsQbRF4r4E3ZISFAf",
          "F1NGwliTE5CJMLBJXKO4",
          "FCdfEd0dzaHvld2RPdD9",
          "FDkMa3GiBvhgJiXSy0ID",
          "FGBM9kDKIjFxTdPYFYDL",
          "FLRDJ3hAxi6jFrW9AmFM",
          "FY0uDtvXmLl3YvnLqXy3",
          "FcSWgUhCa6k19SkCwzQN",
          "FhN2aPI4l2JN34zX1LxD",
          "G1O0yAHJ5ZfxPmZzqdzv",
          "G4Tk5ueG01tJH8ko6wQS",
          "G9yBzDnhG6AUh9jHkArN",
          "GKhxvucIJMEKoQjXduwD",
          "GaWgkFujdE28gHzbqdIm",
          "Gdz3YnrdBR07Wy6NbbV0",
          "Gf8qE71DvVaMUXC56RuF",
          "GgcyjYqeONv7zw3UXvEo",
          "GkMZs7JzIe9WsTcMbg9r",
          "Gl7tPMy5PaCxGMNNsnuu",
          "GxbJNvHRLg4CJpvX9c5i",
          "H4MyRDk8v6DFn2sjkxT6",
          "H6kWvABJb9OtL11GHK6i",
          "H7lNoWSAVje3eU6493r3",
          "HC4r4c8yPU19Wtak576F",
          "HLn3NYUvniBe3PfN21ZG",
          "HSMGGGgQ0cXjelviHaXn",
          "Hh6i0rh3kNR2kvbPBiCw",
          "HkbAWfKNh0CA2TdHTVmd",
          "HktzYxYHTUSCIeM7CCmM",
          "Ho1CroUQvsJoG3Yqckhz",
          "HvK0PeRCXZkd0dd3WMZT",
          "HyHbgSZ1Ox5d0LNUKPZS",
          "I21DOynKIH68THUlVj98",
          "I3o3ZQqteHPVWcNQA7wt",
          "I5PhkHIohcA8X7JyycsA",
          "IJsIv8TWlrCTp5X6DTSy",
          "INX273w7lTwvqPSBKtAd",
          "IQOte7hdOipV3bxGNpod",
          "ISP7n47VJ4pOiqKJclSx",
          "IcbSAh45tBW3sGFYL6SG",
          "InF1lPYnS3bjic5q1ZVu",
          "Ir8O0ZOX24LrFW5hiXfi",
          "ItgsEzQ2sgZrYcbJP6lQ",
          "J0ERaO9HsHoD9IgQSBJj",
          "JEPQwrb1Q2W41JHNyKSF",
          "JFIcG0RRIn6y5CwE0hpF",
          "JG6G1rXyYNRk7IsJUsHB",
          "JG8rQcfJFZkAbsoEec1h",
          "JTre9yx9ZzJid6v04i8M",
          "JfJSkjan0suU0uLFCyLe",
          "JjAhUNiS40cAF5ddJ2H3",
          "Jkb5cI3cv8b7M9PMrAj8",
          "JmiXEto8kSpikvud30S6",
          "Js3PD0CjuTq0mMb9qKJM",
          "JtRcE3s0UaE4SQ2yDtF7",
          "KG91xnt9mroVfkTCvriL",
          "KKB4gIEQxkyAV4r8MmFK",
          "KR7QMhsTie0ZNTOX9kO2",
          "KSRZCMDMkQtvSQdJ9IXM",
          "KZzOTLufc3E5QUuiGeJs",
          "Kh3BDJSkwcH4VnQ6LjJ9",
          "KjUOv2Z0DPme2Z81V8un",
          "LFuyXHpxD2mXbCM9HiSY",
          "LFwans0RYiwGagzoYafD",
          "Lxqjynz3rIpl73byTZLb",
          "M2clO3mxVLxu0wZsiciC",
          "MF1y4uDCUzxUPaKQJ2AN",
          "MFjB6tW3rvu7N5mGtrap",
          "MQcKyXfE3HgOPidv8Rfw",
          "MW9d1b4MtGYW0L0XjNGz",
          "Mdzb1Yn6RMLFLWQaKsyT",
          "MfJ8c0abHTDhB1yZAMOr",
          "MiXM2zmODOYXe6TPYEK3",
          "MseevrYNwvq34IJ302Nx",
          "N0wZ0oUA69yGbyKZWdHb",
          "N1TAb66joYAH7sUrjTzG",
          "NEQiLQ4hOZUQyZCFq0hk",
          "NJBxKBeYEApWqRpIRdKP",
          "NJzLTKIQQEHBmeIN4ODK",
          "No8QCudp33CAVxMpuvzc",
          "O5ybkWw6NWb36r1in03A",
          "O6FzfKedUv6M1Vx67P7u",
          "OGbAaovYQuVX48kfaxeu",
          "OMK7xFBas2fhzapHrYr2",
          "OPv4Whf9qlsw3YpFutkE",
          "OX4fKnJZsUVl0V0KfjbT",
          "OZ1wBj2ulYvvvvrsaE1v",
          "OaPWG0jfwfgf5FOdc9T6",
          "Ob1AjMDJYvid4V3A07yL",
          "ObwqPtu9m1bKZAHbDv6I",
          "OhGYHoD6blng7WU1lwZa",
          "OnPGgnRpF4wrKp1UT7g1",
          "POrieYdqga6DJNnwoRWH",
          "PShSZr31HhUuIMmj5eNu",
          "PWsWqZ0gddLVaaf7T2BM",
          "PednBSrcuazfWztjlbZl",
          "PhhrXdFvUYlBKeEaLFnF",
          "PsNaQ1oSyyezwG1Fum9t",
          "QKiy5dXQqSbNwxfzWUms",
          "QPwzQiuf3v9BLTRZrKUx",
          "QYl57ci0C1ezkW0ZlL9O",
          "Qka9DMW9bpeq6vOsxwKl",
          "QwbxD88ApG0sztaCiWKV",
          "QymJqJjKlywPCtAhinoj",
          "R03P094aiFPmuq8sYUNH",
          "R1KTozi27iXmES9HsIQa",
          "R1wRXQ4QuSDhhfq3Z33n",
          "RFqpUYuTBIasD8xxtXHD",
          "RIfH4PsO94j9I8tPCYew",
          "RfmhK0MZxwfNTlBqJrbL",
          "Ri6tSqWXW2RgbByIxlfb",
          "RibsNorhwtkISS2Z9E4u",
          "RngGbJJM0uYhvIM6WPWi",
          "RqmMAqNAGslim3kXhPaE",
          "S1FJKnecdHMuoSu4V01r",
          "S83ObTaPAD6LhZOX4mvd",
          "S9aPIkO64H6OSwCkIv4l",
          "SCS0tpUJhZJnknB1SzK7",
          "SUr86fPqJdmcPYToSs9E",
          "Se66gLIyetQEzAQpBBWE",
          "SloKCcv7Pr85D0XLhSPO",
          "Sr6Fpw0WJO2Z2Zbeh9Uk",
          "T50NXXUB5jR0GaAN03wc",
          "T5bQhTmVtwS7i3cZWhmD",
          "TNhZquEVUMS3PyCN2uoW",
          "Tb7M02VkVmmjPFnQqlQ5",
          "TwgolQqQnOjaiqOfES4g",
          "UGclZ2Z8R0AqlhIX94Mg",
          "UQurXEsf5I5ahWoN11Ju",
          "URCDbvHfX8rB9anNVi1S",
          "UYzKSj7eoNvMiEM0eca5",
          "Uewx5orrWkLo3gJNX6Yp",
          "UfunBf8jd0fcUcxQr0G9",
          "UhiYJiodWMjSVtC6e2XQ",
          "UkXBNwkdiwOtRGqloBHb",
          "Uwy9xcPN3amVv189Crlm",
          "V4exo14OMpgDzHriLkAs",
          "V8UCpk5cw3MtdR4w5BCu",
          "VVjciw5NphE1SYCrXDW6",
          "VZsyFq3xs75YqolR8jVb",
          "Vs1l1ATiOpLa5QwmZOSY",
          "Vv5uRDULKIVncoUM1qX9",
          "W7uXZjHuSqIRfSB04N3B",
          "WPzMYvPylIcSTN2dgEoK",
          "WaFTff05phV7oy97VgBx",
          "WlaSwVZONhbzN1tzsInV",
          "WqbexFFmhDjDjAQeqNu9",
          "WtnboWDSyIHRmhuPmkgu",
          "XAj5k3QzxFskj7f7RR8w",
          "XKbTr65QoqFyP2V7E130",
          "XbM0SyqeKK88BuNeKsOC",
          "XcGPfg8FRBM9OikFp1p4",
          "Xh6YOdj4oEMYDCDOh3tb",
          "XiKQdxmTMbVC76g7z3sr",
          "Xq4oX1MIKpFic0lQKJoj",
          "XqNJuAVfILDAkTZYLEz8",
          "XryoJkJ2J2NOSV3Yhxps",
          "Xv9v8vg5OId16SkWpV6r",
          "Y7ydtxvpA7ooatWN3J4z",
          "YB6F5OBKUuXpnkMdj6z9",
          "YDKGf6OH3Mz9SsmFJkYb",
          "YOlY4Fto1hLjbCTRJQao",
          "YS1ax098F9rBXOCiOWSY",
          "YbbmqxTxpA9gOkrDQFKP",
          "YmNpfFLPmKp2XDDTAIhs",
          "Ypoxd84V5iQzqHHTyXwq",
          "Yqopwopmj8CVWdGA1h29",
          "ZAmedAnZiEiQAEBpd7ZA",
          "ZHipzuSYZFvOvW50KB3l",
          "ZJm0vVB0wEJbC9AbBKYA",
          "ZK6koiqz2se0fhqwtAIP",
          "ZNPsNZxeBqVTTi1Q6y28",
          "ZNimr9sXsCBA9C8Im5ok",
          "ZPOAOb6nFbBS3cajBlUV",
          "ZQHilm4sWFmNVYaSSLDY",
          "ZgzVOPERmYLYE7CU1OlC",
          "ZmUeMtXetkKwxKdXgQaf",
          "a5xUByQTbXYieOakJWyq",
          "aGMEeNMo6SaaBZGwEtMt",
          "aGR3mpjRsVrjv4juUihO",
          "aKufyGpF4Ejjk0vXVbcq",
          "ahBejPUmqxpy7jtV8to9",
          "aiKUvCB0mTIlKCfku8Wp",
          "ajdiH8UbunuI01SkN6ur",
          "aoHz4cfA70SuAGHrQkvT",
          "azMv7ZJS1fTF7zIA6BoQ",
          "bLlb0nXPgj0EbZKYLRv6",
          "bVaubPW8dHlPcYBiCeki",
          "bdSCur62NjdPXd5Qrwfg",
          "bxf0wZvBPxgSCSnptGHh",
          "c3RZhnNeJPLSGQkONGeS",
          "c3v8fKaiM7AmUjAPeyhn",
          "cApdQiDvU1ATUJnb8o6a",
          "cLyAS2sFy2YLBjpBEd2J",
          "czF4N0xY7w8Bqj5ub5nT",
          "d8u3L8P05nL7Q2e1mu4Y",
          "d9bU9wvWODvVs9yYCeEe",
          "dDntbIg3h8ev0nZcyoW9",
          "dHKuzDDErbVA5FLM5vsd",
          "dLow2hWUh1YfRVdlsi2y",
          "dYV1iWSxeHzOfWdVHLtT",
          "dg6Kgga5VgfX74z7ThAi",
          "dvClAlxZ8vrXksr7mTEc",
          "eRBPHg3VacjjQeLRN1vB",
          "eUnXQTwH1HBrSZiqi0XU",
          "eVBPY6aa6PRuZjzrtfvP",
          "egukYzGQgoVf1imX0EiU",
          "esu6ikr4ClLELZSs4NHM",
          "evstrKrIqRfmLrzN8YxG",
          "exvngTiqEXVxgXOLtHAR",
          "f2oqWkGrrePBCjA1Bh7N",
          "fC6RdQB49CL7g9EZMbKc",
          "fDHnR59UQglYgmrx0KFO",
          "fKVMF84rqYutNEASGzLU",
          "fTy6g5AmKNoAXXvC1nUI",
          "fYx6TfSriKv21fccGNrR",
          "fdE1OwNeAgoqa31d1OuL",
          "fe5D9gPlRWl2UWasyvvO",
          "fieAI2gyaKPU14WpjZXh",
          "fuFoJcBWpVbKWqF9Zdjt",
          "fuwRUKU5WaGquSJ6UbOL",
          "g1gAt6TBRqcK7t0xYdaW",
          "g27sKYZ98BeEQLyNoVhx",
          "g2bCkwvkAT4jqG9CKmCj",
          "g2kdtZ6thnCoze6JdsTU",
          "g3zwELZgnYXDecvBc0yY",
          "gBbBlMcFWWP37LXZNkTk",
          "gDSoLHyaiUoTM7tf7fBA",
          "gRAsNeYsRBBotGTewWWp",
          "gfRsenZ0lCZPMRG1mgz0",
          "gznYupsO4a7TLe58lFxh",
          "hA3gzvlwaxUFblDOMazw",
          "hAK16PLzHu0feAZY2OSO",
          "hE5KK45lcnopzveReKZ7",
          "hErZv7VkgeEe8ZYUBKLP",
          "hL7qhjx7H1MFWHK9GWSb",
          "hMhaYffUsGrBqvlWckTz",
          "hUx3ouYA2528evbbpadw",
          "hZcJDK8UpdnB0OsBnL1Y",
          "hZibjDIgpuYW7BaZHeIl",
          "heRFFMaE3SWQeQVxnUaS",
          "heqpcPOiWwfJa1AYo8mP",
          "hhw3ti4LuOqeEea8BWSQ",
          "hjeNK3Id2PseRajqGjmr",
          "hoEEp6AnlgKJsxjxoNA1",
          "hyJjTUBEuQuWEuGH76Bu",
          "i1Ii1LOGxIW46qSa67Vp",
          "i5il6DUIsaHv0gIfIH6p",
          "i6UoS4KktTYGvIZqGAlr",
          "iB3ZpFJQ82bOjvHNsxtI",
          "iCtAGjrGYjUv8N0XVTfu",
          "iPwG1EDd4gPzM1OEek7f",
          "ia2QoKtyu85CGhER8wvX",
          "iwk3nHe64igJUCZ2ture",
          "j2Ui0kgqK7AwEpQBXelJ",
          "jDPMjlSzRNNzRvi425Rx",
          "jiwR0OHIfpkFPbDAV7Mb",
          "jkuQWavi9Chl9yBf21RZ",
          "jsfAjayfZBhm9QJXyLgN",
          "k4W9psYi7qvsi3TQo4Zl",
          "kCP8fbeGJgcgbMsqhyti",
          "kLRqwobzD6X4ePZnK9yF",
          "kV4GEzKjcgljBEwV5ueb",
          "kiGMNFMZVnXfEdhJUr8v",
          "kpYxHvG0q8nyZgezjsY3",
          "ktBukyq6t7JpQOfC12bq",
          "lCz4XWnqUvleSSG2LbAs",
          "lDlGuRouBqEeSta8rExv",
          "lFYR2qXMZRz78NmLTPfZ",
          "lMB6u7QuLjFnOS9KY3w8",
          "lR8JZUbVNMT7EySdXp8M",
          "lf2ALHOb2rQn7XZMEtOY",
          "lmoi8r2zFnUuKYQwBWAw",
          "ln992Jkjmrwvi6ePgEVn",
          "lpdBnkAjFXAJAISDyNQf",
          "ltBUFY11jEL25gn0x1DX",
          "lwl8icoStZIuoCUvVi3E",
          "mDg3SaQKLKcPGToe7OBU",
          "mHhTP2JsWB0u4bZqSBJP",
          "mJX9UZpxcYqVuUs8RR8g",
          "mLmBEqzLvWPfyyIdo5x4",
          "mNfUqlwBDM2Z5PRZzHIN",
          "mPCAUiUb7lLC15g0pY79",
          "mhIEmUyBs2ifB6tjzHM6",
          "mjEqOWTntz1H5NP0WuzY",
          "mjNoB9ZFRhwdfKUb9cPu",
          "mmujzi8AdOyGyLt95lNH",
          "mpbiloGqLHf2F9Zk3sSf",
          "msx9Hn69M32gP1Y4PU12",
          "muuyGw2bFLpgC1KKhut9",
          "mvEBGTcsCOisESfSjmVC",
          "n1QYN9PNtqFACgGPV8KI",
          "n4HE4fvGTRm8WMMWjU0R",
          "nlbQf2Yie2G0qoFuAQ8w",
          "noWa8L8bryIgTMoznap7",
          "nptoRLAX05QQbqbqHLtp",
          "nxANxVQdRPaVh8nSDfBe",
          "oEtnO2F0B3Q65KxWw9Gu",
          "oL2tnjj79UGBpmMQzX4c",
          "oPV4qhs8Zswtrqz566EE",
          "oRT4jT7Xp6aAGuayZbRj",
          "ocyzzZ8hPOc6GdryOex8",
          "odG44QGJVv6425kLJTTh",
          "og6e2l3KveiSD9yRKqkV",
          "oqOyGdUbLtCDaVWMIUwR",
          "otzGxDQTzhM5kNtr7Tit",
          "ouNgsa4oyPyt7JmI7bU3",
          "p2AApjsdwMUiozwq0uHT",
          "p81ZtnPoJpEqFwSeuEdt",
          "pDiUl4ECnPcWBctwkUvE",
          "pEZITIipvC15F6sfV4TM",
          "pIjkSnXJ1CKw9PRnDriT",
          "pJesHrrW9N1iIptbdQkf",
          "pRGa3kdMZCFcEH4pfaGK",
          "pnnAXDaKMZ1mnMYDwCPN",
          "q6GKUqpkRdmlZ1hMp9Lq",
          "q7PkCKRUgV2rV3N1Khdp",
          "qHr7QT7w41SyhBtJcUpN",
          "qI8rOG0PwQkxu10tFj10",
          "qVu9dDnDhIh63eUR1TVs",
          "qZdAoufmpTWB4ZM9zVKg",
          "qboiDNeoLNYr8eDXyAOH",
          "rMoYNEzVIQetmX980le6",
          "rR3oIrskHutUpE5YiwA9",
          "rRKWjXZu1vlzFi0uqngC",
          "rgyZ4UOfGWpm46P72RLH",
          "ri1wSJ9UioXNyxF4zRFS",
          "rtbIX4E1azaPTFpUgfS7",
          "rz73l6lIEeiChFCz4eWk",
          "sCl30Esy1bkxLKqxtfLI",
          "sWl23NlNB9WnVl257WzP",
          "sYewFzDMi2vy9XZcDMWj",
          "snuK0Lwxwci2dcy8NnMN",
          "sqmCe54xqCb151KplBk6",
          "svSQ8OBdfFWa1uccameE",
          "t7AcrUuq3B4LpFi2HJqD",
          "tQoJUX0JnMgsAnVOKfZw",
          "tRPxj3d4oa8eJzLk9TNc",
          "tYMZV53cN0qjtZ9XZsA4",
          "tYmRU3jBXLXp25v3Vrgg",
          "tZTO172eBgjoN4B8ok34",
          "taiS9yDCjScwsCtvNajV",
          "td9Is6PEdFFHG6HwmAdf",
          "tkV2TB4zB5zFRds7gSb3",
          "tojnreyKTydpTYH8JNHp",
          "tyaPxUnugbj8bV73lCL3",
          "uBo5EcBCoMhAVw8jo8qa",
          "uQio1U3lPeGTj3vicnd8",
          "uXLRgb8msRNhQRpU1QOm",
          "uakL6TDBM3WBbXqLTawG",
          "ueXRq4BFuVR8TqltkYaD",
          "unlCAtwDl6t71XzlfR4T",
          "v9nVzlx9Xa6cJ3XQJSHC",
          "vG6FsZQJpl8wXbOTdJoO",
          "vIqKy7x5DUyKR1AGRvjP",
          "vQ5SzP1Eaa4c7WoNohpX",
          "vWGTl5JdYesvOmwd3avR",
          "vZt2ITy1POcmeXwhqbRd",
          "vj86UiIIoHbJiE5fKO8F",
          "vr9hLmup2UFMjoMZvecC",
          "vu0CbtXQ0t6dPFBR18Eh",
          "wDqAppG2JEQ9YZySCdBf",
          "wE8SuTLannpzzus4iMcl",
          "wJP5iBurgvcdhz2YtRuP",
          "wpsSeqKDWCwqfliPrMJP",
          "wwkXkBqccKEcs9hWAdE0",
          "x2XPjNr1j8dy93R4DSZp",
          "x4arV0GQ5w1B36nk5uHx",
          "xGIkDQ5ALFjD3yTm9e9U",
          "xeakXYyefDVUBROcZ2KT",
          "xqZYdcUClsvV2GOLKf3s",
          "xrVoGC60CEjcGric5Hwl",
          "xu2zAZawZANz1gBknpSe",
          "yC0skBbXQgIYgNLJG6vG",
          "yDXZj5Z7q8eMMmtzMUDQ",
          "yNtVJPxUvTPufzhN5uql",
          "yPPR83LPmjdJD7sE5GRc",
          "ykUGGT2O7AxmaUoGDuQ6",
          "yosoZV7jFUrmA3Jcp2EI",
          "yqzQphupsXcrpdJEt6mF",
          "yrRQEsaqFoK8p9xPJw4R",
          "zDD4ed0ZPCTIYbii6slp",
          "zMLTAIqfuthquINlcwD5",
          "zMubIlL0q4aqVy4RwRe3",
          "zTS7VfuyI1AlJUa5wcW4",
          "zds38MUbRaXijnANQPmH",
          "zl4xfV0mme8i3bkAqyyQ",
          "zlINLG9FLUg3LuDknTsJ",
          "zuq05jLFujBjXn5MiyMX"
         ]
        }
       ],
       "layout": {
        "legend": {
         "tracegroupgap": 0
        },
        "margin": {
         "t": 60
        },
        "template": {
         "data": {
          "bar": [
           {
            "error_x": {
             "color": "#2a3f5f"
            },
            "error_y": {
             "color": "#2a3f5f"
            },
            "marker": {
             "line": {
              "color": "#E5ECF6",
              "width": 0.5
             }
            },
            "type": "bar"
           }
          ],
          "barpolar": [
           {
            "marker": {
             "line": {
              "color": "#E5ECF6",
              "width": 0.5
             }
            },
            "type": "barpolar"
           }
          ],
          "carpet": [
           {
            "aaxis": {
             "endlinecolor": "#2a3f5f",
             "gridcolor": "white",
             "linecolor": "white",
             "minorgridcolor": "white",
             "startlinecolor": "#2a3f5f"
            },
            "baxis": {
             "endlinecolor": "#2a3f5f",
             "gridcolor": "white",
             "linecolor": "white",
             "minorgridcolor": "white",
             "startlinecolor": "#2a3f5f"
            },
            "type": "carpet"
           }
          ],
          "choropleth": [
           {
            "colorbar": {
             "outlinewidth": 0,
             "ticks": ""
            },
            "type": "choropleth"
           }
          ],
          "contour": [
           {
            "colorbar": {
             "outlinewidth": 0,
             "ticks": ""
            },
            "colorscale": [
             [
              0,
              "#0d0887"
             ],
             [
              0.1111111111111111,
              "#46039f"
             ],
             [
              0.2222222222222222,
              "#7201a8"
             ],
             [
              0.3333333333333333,
              "#9c179e"
             ],
             [
              0.4444444444444444,
              "#bd3786"
             ],
             [
              0.5555555555555556,
              "#d8576b"
             ],
             [
              0.6666666666666666,
              "#ed7953"
             ],
             [
              0.7777777777777778,
              "#fb9f3a"
             ],
             [
              0.8888888888888888,
              "#fdca26"
             ],
             [
              1,
              "#f0f921"
             ]
            ],
            "type": "contour"
           }
          ],
          "contourcarpet": [
           {
            "colorbar": {
             "outlinewidth": 0,
             "ticks": ""
            },
            "type": "contourcarpet"
           }
          ],
          "heatmap": [
           {
            "colorbar": {
             "outlinewidth": 0,
             "ticks": ""
            },
            "colorscale": [
             [
              0,
              "#0d0887"
             ],
             [
              0.1111111111111111,
              "#46039f"
             ],
             [
              0.2222222222222222,
              "#7201a8"
             ],
             [
              0.3333333333333333,
              "#9c179e"
             ],
             [
              0.4444444444444444,
              "#bd3786"
             ],
             [
              0.5555555555555556,
              "#d8576b"
             ],
             [
              0.6666666666666666,
              "#ed7953"
             ],
             [
              0.7777777777777778,
              "#fb9f3a"
             ],
             [
              0.8888888888888888,
              "#fdca26"
             ],
             [
              1,
              "#f0f921"
             ]
            ],
            "type": "heatmap"
           }
          ],
          "heatmapgl": [
           {
            "colorbar": {
             "outlinewidth": 0,
             "ticks": ""
            },
            "colorscale": [
             [
              0,
              "#0d0887"
             ],
             [
              0.1111111111111111,
              "#46039f"
             ],
             [
              0.2222222222222222,
              "#7201a8"
             ],
             [
              0.3333333333333333,
              "#9c179e"
             ],
             [
              0.4444444444444444,
              "#bd3786"
             ],
             [
              0.5555555555555556,
              "#d8576b"
             ],
             [
              0.6666666666666666,
              "#ed7953"
             ],
             [
              0.7777777777777778,
              "#fb9f3a"
             ],
             [
              0.8888888888888888,
              "#fdca26"
             ],
             [
              1,
              "#f0f921"
             ]
            ],
            "type": "heatmapgl"
           }
          ],
          "histogram": [
           {
            "marker": {
             "colorbar": {
              "outlinewidth": 0,
              "ticks": ""
             }
            },
            "type": "histogram"
           }
          ],
          "histogram2d": [
           {
            "colorbar": {
             "outlinewidth": 0,
             "ticks": ""
            },
            "colorscale": [
             [
              0,
              "#0d0887"
             ],
             [
              0.1111111111111111,
              "#46039f"
             ],
             [
              0.2222222222222222,
              "#7201a8"
             ],
             [
              0.3333333333333333,
              "#9c179e"
             ],
             [
              0.4444444444444444,
              "#bd3786"
             ],
             [
              0.5555555555555556,
              "#d8576b"
             ],
             [
              0.6666666666666666,
              "#ed7953"
             ],
             [
              0.7777777777777778,
              "#fb9f3a"
             ],
             [
              0.8888888888888888,
              "#fdca26"
             ],
             [
              1,
              "#f0f921"
             ]
            ],
            "type": "histogram2d"
           }
          ],
          "histogram2dcontour": [
           {
            "colorbar": {
             "outlinewidth": 0,
             "ticks": ""
            },
            "colorscale": [
             [
              0,
              "#0d0887"
             ],
             [
              0.1111111111111111,
              "#46039f"
             ],
             [
              0.2222222222222222,
              "#7201a8"
             ],
             [
              0.3333333333333333,
              "#9c179e"
             ],
             [
              0.4444444444444444,
              "#bd3786"
             ],
             [
              0.5555555555555556,
              "#d8576b"
             ],
             [
              0.6666666666666666,
              "#ed7953"
             ],
             [
              0.7777777777777778,
              "#fb9f3a"
             ],
             [
              0.8888888888888888,
              "#fdca26"
             ],
             [
              1,
              "#f0f921"
             ]
            ],
            "type": "histogram2dcontour"
           }
          ],
          "mesh3d": [
           {
            "colorbar": {
             "outlinewidth": 0,
             "ticks": ""
            },
            "type": "mesh3d"
           }
          ],
          "parcoords": [
           {
            "line": {
             "colorbar": {
              "outlinewidth": 0,
              "ticks": ""
             }
            },
            "type": "parcoords"
           }
          ],
          "pie": [
           {
            "automargin": true,
            "type": "pie"
           }
          ],
          "scatter": [
           {
            "marker": {
             "colorbar": {
              "outlinewidth": 0,
              "ticks": ""
             }
            },
            "type": "scatter"
           }
          ],
          "scatter3d": [
           {
            "line": {
             "colorbar": {
              "outlinewidth": 0,
              "ticks": ""
             }
            },
            "marker": {
             "colorbar": {
              "outlinewidth": 0,
              "ticks": ""
             }
            },
            "type": "scatter3d"
           }
          ],
          "scattercarpet": [
           {
            "marker": {
             "colorbar": {
              "outlinewidth": 0,
              "ticks": ""
             }
            },
            "type": "scattercarpet"
           }
          ],
          "scattergeo": [
           {
            "marker": {
             "colorbar": {
              "outlinewidth": 0,
              "ticks": ""
             }
            },
            "type": "scattergeo"
           }
          ],
          "scattergl": [
           {
            "marker": {
             "colorbar": {
              "outlinewidth": 0,
              "ticks": ""
             }
            },
            "type": "scattergl"
           }
          ],
          "scattermapbox": [
           {
            "marker": {
             "colorbar": {
              "outlinewidth": 0,
              "ticks": ""
             }
            },
            "type": "scattermapbox"
           }
          ],
          "scatterpolar": [
           {
            "marker": {
             "colorbar": {
              "outlinewidth": 0,
              "ticks": ""
             }
            },
            "type": "scatterpolar"
           }
          ],
          "scatterpolargl": [
           {
            "marker": {
             "colorbar": {
              "outlinewidth": 0,
              "ticks": ""
             }
            },
            "type": "scatterpolargl"
           }
          ],
          "scatterternary": [
           {
            "marker": {
             "colorbar": {
              "outlinewidth": 0,
              "ticks": ""
             }
            },
            "type": "scatterternary"
           }
          ],
          "surface": [
           {
            "colorbar": {
             "outlinewidth": 0,
             "ticks": ""
            },
            "colorscale": [
             [
              0,
              "#0d0887"
             ],
             [
              0.1111111111111111,
              "#46039f"
             ],
             [
              0.2222222222222222,
              "#7201a8"
             ],
             [
              0.3333333333333333,
              "#9c179e"
             ],
             [
              0.4444444444444444,
              "#bd3786"
             ],
             [
              0.5555555555555556,
              "#d8576b"
             ],
             [
              0.6666666666666666,
              "#ed7953"
             ],
             [
              0.7777777777777778,
              "#fb9f3a"
             ],
             [
              0.8888888888888888,
              "#fdca26"
             ],
             [
              1,
              "#f0f921"
             ]
            ],
            "type": "surface"
           }
          ],
          "table": [
           {
            "cells": {
             "fill": {
              "color": "#EBF0F8"
             },
             "line": {
              "color": "white"
             }
            },
            "header": {
             "fill": {
              "color": "#C8D4E3"
             },
             "line": {
              "color": "white"
             }
            },
            "type": "table"
           }
          ]
         },
         "layout": {
          "annotationdefaults": {
           "arrowcolor": "#2a3f5f",
           "arrowhead": 0,
           "arrowwidth": 1
          },
          "coloraxis": {
           "colorbar": {
            "outlinewidth": 0,
            "ticks": ""
           }
          },
          "colorscale": {
           "diverging": [
            [
             0,
             "#8e0152"
            ],
            [
             0.1,
             "#c51b7d"
            ],
            [
             0.2,
             "#de77ae"
            ],
            [
             0.3,
             "#f1b6da"
            ],
            [
             0.4,
             "#fde0ef"
            ],
            [
             0.5,
             "#f7f7f7"
            ],
            [
             0.6,
             "#e6f5d0"
            ],
            [
             0.7,
             "#b8e186"
            ],
            [
             0.8,
             "#7fbc41"
            ],
            [
             0.9,
             "#4d9221"
            ],
            [
             1,
             "#276419"
            ]
           ],
           "sequential": [
            [
             0,
             "#0d0887"
            ],
            [
             0.1111111111111111,
             "#46039f"
            ],
            [
             0.2222222222222222,
             "#7201a8"
            ],
            [
             0.3333333333333333,
             "#9c179e"
            ],
            [
             0.4444444444444444,
             "#bd3786"
            ],
            [
             0.5555555555555556,
             "#d8576b"
            ],
            [
             0.6666666666666666,
             "#ed7953"
            ],
            [
             0.7777777777777778,
             "#fb9f3a"
            ],
            [
             0.8888888888888888,
             "#fdca26"
            ],
            [
             1,
             "#f0f921"
            ]
           ],
           "sequentialminus": [
            [
             0,
             "#0d0887"
            ],
            [
             0.1111111111111111,
             "#46039f"
            ],
            [
             0.2222222222222222,
             "#7201a8"
            ],
            [
             0.3333333333333333,
             "#9c179e"
            ],
            [
             0.4444444444444444,
             "#bd3786"
            ],
            [
             0.5555555555555556,
             "#d8576b"
            ],
            [
             0.6666666666666666,
             "#ed7953"
            ],
            [
             0.7777777777777778,
             "#fb9f3a"
            ],
            [
             0.8888888888888888,
             "#fdca26"
            ],
            [
             1,
             "#f0f921"
            ]
           ]
          },
          "colorway": [
           "#636efa",
           "#EF553B",
           "#00cc96",
           "#ab63fa",
           "#FFA15A",
           "#19d3f3",
           "#FF6692",
           "#B6E880",
           "#FF97FF",
           "#FECB52"
          ],
          "font": {
           "color": "#2a3f5f"
          },
          "geo": {
           "bgcolor": "white",
           "lakecolor": "white",
           "landcolor": "#E5ECF6",
           "showlakes": true,
           "showland": true,
           "subunitcolor": "white"
          },
          "hoverlabel": {
           "align": "left"
          },
          "hovermode": "closest",
          "mapbox": {
           "style": "light"
          },
          "paper_bgcolor": "white",
          "plot_bgcolor": "#E5ECF6",
          "polar": {
           "angularaxis": {
            "gridcolor": "white",
            "linecolor": "white",
            "ticks": ""
           },
           "bgcolor": "#E5ECF6",
           "radialaxis": {
            "gridcolor": "white",
            "linecolor": "white",
            "ticks": ""
           }
          },
          "scene": {
           "xaxis": {
            "backgroundcolor": "#E5ECF6",
            "gridcolor": "white",
            "gridwidth": 2,
            "linecolor": "white",
            "showbackground": true,
            "ticks": "",
            "zerolinecolor": "white"
           },
           "yaxis": {
            "backgroundcolor": "#E5ECF6",
            "gridcolor": "white",
            "gridwidth": 2,
            "linecolor": "white",
            "showbackground": true,
            "ticks": "",
            "zerolinecolor": "white"
           },
           "zaxis": {
            "backgroundcolor": "#E5ECF6",
            "gridcolor": "white",
            "gridwidth": 2,
            "linecolor": "white",
            "showbackground": true,
            "ticks": "",
            "zerolinecolor": "white"
           }
          },
          "shapedefaults": {
           "line": {
            "color": "#2a3f5f"
           }
          },
          "ternary": {
           "aaxis": {
            "gridcolor": "white",
            "linecolor": "white",
            "ticks": ""
           },
           "baxis": {
            "gridcolor": "white",
            "linecolor": "white",
            "ticks": ""
           },
           "bgcolor": "#E5ECF6",
           "caxis": {
            "gridcolor": "white",
            "linecolor": "white",
            "ticks": ""
           }
          },
          "title": {
           "x": 0.05
          },
          "xaxis": {
           "automargin": true,
           "gridcolor": "white",
           "linecolor": "white",
           "ticks": "",
           "title": {
            "standoff": 15
           },
           "zerolinecolor": "white",
           "zerolinewidth": 2
          },
          "yaxis": {
           "automargin": true,
           "gridcolor": "white",
           "linecolor": "white",
           "ticks": "",
           "title": {
            "standoff": 15
           },
           "zerolinecolor": "white",
           "zerolinewidth": 2
          }
         }
        }
       }
      }
     },
     "metadata": {}
    }
   ],
   "source": [
    "fig = px.pie(sentences, values='id', names='category')\n",
    "fig.show()"
   ]
  },
  {
   "cell_type": "code",
   "execution_count": 12,
   "metadata": {},
   "outputs": [
    {
     "output_type": "error",
     "ename": "TypeError",
     "evalue": "'<' not supported between instances of 'str' and 'int'",
     "traceback": [
      "\u001b[0;31m---------------------------------------------------------------------------\u001b[0m",
      "\u001b[0;31mTypeError\u001b[0m                                 Traceback (most recent call last)",
      "\u001b[0;32m<ipython-input-12-c97e5deab4cc>\u001b[0m in \u001b[0;36m<module>\u001b[0;34m\u001b[0m\n\u001b[0;32m----> 1\u001b[0;31m \u001b[0msentences\u001b[0m\u001b[0;34m.\u001b[0m\u001b[0mplot\u001b[0m\u001b[0;34m.\u001b[0m\u001b[0mpie\u001b[0m\u001b[0;34m(\u001b[0m\u001b[0my\u001b[0m\u001b[0;34m=\u001b[0m\u001b[0;34m'category'\u001b[0m\u001b[0;34m)\u001b[0m\u001b[0;34m\u001b[0m\u001b[0;34m\u001b[0m\u001b[0m\n\u001b[0m",
      "\u001b[0;32m~/anaconda3/lib/python3.7/site-packages/pandas/plotting/_core.py\u001b[0m in \u001b[0;36mpie\u001b[0;34m(self, **kwargs)\u001b[0m\n\u001b[1;32m   1416\u001b[0m         ):\n\u001b[1;32m   1417\u001b[0m             \u001b[0;32mraise\u001b[0m \u001b[0mValueError\u001b[0m\u001b[0;34m(\u001b[0m\u001b[0;34m\"pie requires either y column or 'subplots=True'\"\u001b[0m\u001b[0;34m)\u001b[0m\u001b[0;34m\u001b[0m\u001b[0;34m\u001b[0m\u001b[0m\n\u001b[0;32m-> 1418\u001b[0;31m         \u001b[0;32mreturn\u001b[0m \u001b[0mself\u001b[0m\u001b[0;34m(\u001b[0m\u001b[0mkind\u001b[0m\u001b[0;34m=\u001b[0m\u001b[0;34m\"pie\"\u001b[0m\u001b[0;34m,\u001b[0m \u001b[0;34m**\u001b[0m\u001b[0mkwargs\u001b[0m\u001b[0;34m)\u001b[0m\u001b[0;34m\u001b[0m\u001b[0;34m\u001b[0m\u001b[0m\n\u001b[0m\u001b[1;32m   1419\u001b[0m \u001b[0;34m\u001b[0m\u001b[0m\n\u001b[1;32m   1420\u001b[0m     \u001b[0;32mdef\u001b[0m \u001b[0mscatter\u001b[0m\u001b[0;34m(\u001b[0m\u001b[0mself\u001b[0m\u001b[0;34m,\u001b[0m \u001b[0mx\u001b[0m\u001b[0;34m,\u001b[0m \u001b[0my\u001b[0m\u001b[0;34m,\u001b[0m \u001b[0ms\u001b[0m\u001b[0;34m=\u001b[0m\u001b[0;32mNone\u001b[0m\u001b[0;34m,\u001b[0m \u001b[0mc\u001b[0m\u001b[0;34m=\u001b[0m\u001b[0;32mNone\u001b[0m\u001b[0;34m,\u001b[0m \u001b[0;34m**\u001b[0m\u001b[0mkwargs\u001b[0m\u001b[0;34m)\u001b[0m\u001b[0;34m:\u001b[0m\u001b[0;34m\u001b[0m\u001b[0;34m\u001b[0m\u001b[0m\n",
      "\u001b[0;32m~/anaconda3/lib/python3.7/site-packages/pandas/plotting/_core.py\u001b[0m in \u001b[0;36m__call__\u001b[0;34m(self, *args, **kwargs)\u001b[0m\n\u001b[1;32m    845\u001b[0m                     \u001b[0mdata\u001b[0m\u001b[0;34m.\u001b[0m\u001b[0mcolumns\u001b[0m \u001b[0;34m=\u001b[0m \u001b[0mlabel_name\u001b[0m\u001b[0;34m\u001b[0m\u001b[0;34m\u001b[0m\u001b[0m\n\u001b[1;32m    846\u001b[0m \u001b[0;34m\u001b[0m\u001b[0m\n\u001b[0;32m--> 847\u001b[0;31m         \u001b[0;32mreturn\u001b[0m \u001b[0mplot_backend\u001b[0m\u001b[0;34m.\u001b[0m\u001b[0mplot\u001b[0m\u001b[0;34m(\u001b[0m\u001b[0mdata\u001b[0m\u001b[0;34m,\u001b[0m \u001b[0mkind\u001b[0m\u001b[0;34m=\u001b[0m\u001b[0mkind\u001b[0m\u001b[0;34m,\u001b[0m \u001b[0;34m**\u001b[0m\u001b[0mkwargs\u001b[0m\u001b[0;34m)\u001b[0m\u001b[0;34m\u001b[0m\u001b[0;34m\u001b[0m\u001b[0m\n\u001b[0m\u001b[1;32m    848\u001b[0m \u001b[0;34m\u001b[0m\u001b[0m\n\u001b[1;32m    849\u001b[0m     \u001b[0m__call__\u001b[0m\u001b[0;34m.\u001b[0m\u001b[0m__doc__\u001b[0m \u001b[0;34m=\u001b[0m \u001b[0m__doc__\u001b[0m\u001b[0;34m\u001b[0m\u001b[0;34m\u001b[0m\u001b[0m\n",
      "\u001b[0;32m~/anaconda3/lib/python3.7/site-packages/pandas/plotting/_matplotlib/__init__.py\u001b[0m in \u001b[0;36mplot\u001b[0;34m(data, kind, **kwargs)\u001b[0m\n\u001b[1;32m     58\u001b[0m                 \u001b[0max\u001b[0m \u001b[0;34m=\u001b[0m \u001b[0mplt\u001b[0m\u001b[0;34m.\u001b[0m\u001b[0mgca\u001b[0m\u001b[0;34m(\u001b[0m\u001b[0;34m)\u001b[0m\u001b[0;34m\u001b[0m\u001b[0;34m\u001b[0m\u001b[0m\n\u001b[1;32m     59\u001b[0m             \u001b[0mkwargs\u001b[0m\u001b[0;34m[\u001b[0m\u001b[0;34m\"ax\"\u001b[0m\u001b[0;34m]\u001b[0m \u001b[0;34m=\u001b[0m \u001b[0mgetattr\u001b[0m\u001b[0;34m(\u001b[0m\u001b[0max\u001b[0m\u001b[0;34m,\u001b[0m \u001b[0;34m\"left_ax\"\u001b[0m\u001b[0;34m,\u001b[0m \u001b[0max\u001b[0m\u001b[0;34m)\u001b[0m\u001b[0;34m\u001b[0m\u001b[0;34m\u001b[0m\u001b[0m\n\u001b[0;32m---> 60\u001b[0;31m     \u001b[0mplot_obj\u001b[0m \u001b[0;34m=\u001b[0m \u001b[0mPLOT_CLASSES\u001b[0m\u001b[0;34m[\u001b[0m\u001b[0mkind\u001b[0m\u001b[0;34m]\u001b[0m\u001b[0;34m(\u001b[0m\u001b[0mdata\u001b[0m\u001b[0;34m,\u001b[0m \u001b[0;34m**\u001b[0m\u001b[0mkwargs\u001b[0m\u001b[0;34m)\u001b[0m\u001b[0;34m\u001b[0m\u001b[0;34m\u001b[0m\u001b[0m\n\u001b[0m\u001b[1;32m     61\u001b[0m     \u001b[0mplot_obj\u001b[0m\u001b[0;34m.\u001b[0m\u001b[0mgenerate\u001b[0m\u001b[0;34m(\u001b[0m\u001b[0;34m)\u001b[0m\u001b[0;34m\u001b[0m\u001b[0;34m\u001b[0m\u001b[0m\n\u001b[1;32m     62\u001b[0m     \u001b[0mplot_obj\u001b[0m\u001b[0;34m.\u001b[0m\u001b[0mdraw\u001b[0m\u001b[0;34m(\u001b[0m\u001b[0;34m)\u001b[0m\u001b[0;34m\u001b[0m\u001b[0;34m\u001b[0m\u001b[0m\n",
      "\u001b[0;32m~/anaconda3/lib/python3.7/site-packages/pandas/plotting/_matplotlib/core.py\u001b[0m in \u001b[0;36m__init__\u001b[0;34m(self, data, kind, **kwargs)\u001b[0m\n\u001b[1;32m   1460\u001b[0m     \u001b[0;32mdef\u001b[0m \u001b[0m__init__\u001b[0m\u001b[0;34m(\u001b[0m\u001b[0mself\u001b[0m\u001b[0;34m,\u001b[0m \u001b[0mdata\u001b[0m\u001b[0;34m,\u001b[0m \u001b[0mkind\u001b[0m\u001b[0;34m=\u001b[0m\u001b[0;32mNone\u001b[0m\u001b[0;34m,\u001b[0m \u001b[0;34m**\u001b[0m\u001b[0mkwargs\u001b[0m\u001b[0;34m)\u001b[0m\u001b[0;34m:\u001b[0m\u001b[0;34m\u001b[0m\u001b[0;34m\u001b[0m\u001b[0m\n\u001b[1;32m   1461\u001b[0m         \u001b[0mdata\u001b[0m \u001b[0;34m=\u001b[0m \u001b[0mdata\u001b[0m\u001b[0;34m.\u001b[0m\u001b[0mfillna\u001b[0m\u001b[0;34m(\u001b[0m\u001b[0mvalue\u001b[0m\u001b[0;34m=\u001b[0m\u001b[0;36m0\u001b[0m\u001b[0;34m)\u001b[0m\u001b[0;34m\u001b[0m\u001b[0;34m\u001b[0m\u001b[0m\n\u001b[0;32m-> 1462\u001b[0;31m         \u001b[0;32mif\u001b[0m \u001b[0;34m(\u001b[0m\u001b[0mdata\u001b[0m \u001b[0;34m<\u001b[0m \u001b[0;36m0\u001b[0m\u001b[0;34m)\u001b[0m\u001b[0;34m.\u001b[0m\u001b[0many\u001b[0m\u001b[0;34m(\u001b[0m\u001b[0;34m)\u001b[0m\u001b[0;34m.\u001b[0m\u001b[0many\u001b[0m\u001b[0;34m(\u001b[0m\u001b[0;34m)\u001b[0m\u001b[0;34m:\u001b[0m\u001b[0;34m\u001b[0m\u001b[0;34m\u001b[0m\u001b[0m\n\u001b[0m\u001b[1;32m   1463\u001b[0m             \u001b[0;32mraise\u001b[0m \u001b[0mValueError\u001b[0m\u001b[0;34m(\u001b[0m\u001b[0;34mf\"{kind} doesn't allow negative values\"\u001b[0m\u001b[0;34m)\u001b[0m\u001b[0;34m\u001b[0m\u001b[0;34m\u001b[0m\u001b[0m\n\u001b[1;32m   1464\u001b[0m         \u001b[0mMPLPlot\u001b[0m\u001b[0;34m.\u001b[0m\u001b[0m__init__\u001b[0m\u001b[0;34m(\u001b[0m\u001b[0mself\u001b[0m\u001b[0;34m,\u001b[0m \u001b[0mdata\u001b[0m\u001b[0;34m,\u001b[0m \u001b[0mkind\u001b[0m\u001b[0;34m=\u001b[0m\u001b[0mkind\u001b[0m\u001b[0;34m,\u001b[0m \u001b[0;34m**\u001b[0m\u001b[0mkwargs\u001b[0m\u001b[0;34m)\u001b[0m\u001b[0;34m\u001b[0m\u001b[0;34m\u001b[0m\u001b[0m\n",
      "\u001b[0;32m~/anaconda3/lib/python3.7/site-packages/pandas/core/ops/common.py\u001b[0m in \u001b[0;36mnew_method\u001b[0;34m(self, other)\u001b[0m\n\u001b[1;32m     62\u001b[0m         \u001b[0mother\u001b[0m \u001b[0;34m=\u001b[0m \u001b[0mitem_from_zerodim\u001b[0m\u001b[0;34m(\u001b[0m\u001b[0mother\u001b[0m\u001b[0;34m)\u001b[0m\u001b[0;34m\u001b[0m\u001b[0;34m\u001b[0m\u001b[0m\n\u001b[1;32m     63\u001b[0m \u001b[0;34m\u001b[0m\u001b[0m\n\u001b[0;32m---> 64\u001b[0;31m         \u001b[0;32mreturn\u001b[0m \u001b[0mmethod\u001b[0m\u001b[0;34m(\u001b[0m\u001b[0mself\u001b[0m\u001b[0;34m,\u001b[0m \u001b[0mother\u001b[0m\u001b[0;34m)\u001b[0m\u001b[0;34m\u001b[0m\u001b[0;34m\u001b[0m\u001b[0m\n\u001b[0m\u001b[1;32m     65\u001b[0m \u001b[0;34m\u001b[0m\u001b[0m\n\u001b[1;32m     66\u001b[0m     \u001b[0;32mreturn\u001b[0m \u001b[0mnew_method\u001b[0m\u001b[0;34m\u001b[0m\u001b[0;34m\u001b[0m\u001b[0m\n",
      "\u001b[0;32m~/anaconda3/lib/python3.7/site-packages/pandas/core/ops/__init__.py\u001b[0m in \u001b[0;36mwrapper\u001b[0;34m(self, other)\u001b[0m\n\u001b[1;32m    527\u001b[0m         \u001b[0mrvalues\u001b[0m \u001b[0;34m=\u001b[0m \u001b[0mextract_array\u001b[0m\u001b[0;34m(\u001b[0m\u001b[0mother\u001b[0m\u001b[0;34m,\u001b[0m \u001b[0mextract_numpy\u001b[0m\u001b[0;34m=\u001b[0m\u001b[0;32mTrue\u001b[0m\u001b[0;34m)\u001b[0m\u001b[0;34m\u001b[0m\u001b[0;34m\u001b[0m\u001b[0m\n\u001b[1;32m    528\u001b[0m \u001b[0;34m\u001b[0m\u001b[0m\n\u001b[0;32m--> 529\u001b[0;31m         \u001b[0mres_values\u001b[0m \u001b[0;34m=\u001b[0m \u001b[0mcomparison_op\u001b[0m\u001b[0;34m(\u001b[0m\u001b[0mlvalues\u001b[0m\u001b[0;34m,\u001b[0m \u001b[0mrvalues\u001b[0m\u001b[0;34m,\u001b[0m \u001b[0mop\u001b[0m\u001b[0;34m)\u001b[0m\u001b[0;34m\u001b[0m\u001b[0;34m\u001b[0m\u001b[0m\n\u001b[0m\u001b[1;32m    530\u001b[0m \u001b[0;34m\u001b[0m\u001b[0m\n\u001b[1;32m    531\u001b[0m         \u001b[0;32mreturn\u001b[0m \u001b[0m_construct_result\u001b[0m\u001b[0;34m(\u001b[0m\u001b[0mself\u001b[0m\u001b[0;34m,\u001b[0m \u001b[0mres_values\u001b[0m\u001b[0;34m,\u001b[0m \u001b[0mindex\u001b[0m\u001b[0;34m=\u001b[0m\u001b[0mself\u001b[0m\u001b[0;34m.\u001b[0m\u001b[0mindex\u001b[0m\u001b[0;34m,\u001b[0m \u001b[0mname\u001b[0m\u001b[0;34m=\u001b[0m\u001b[0mres_name\u001b[0m\u001b[0;34m)\u001b[0m\u001b[0;34m\u001b[0m\u001b[0;34m\u001b[0m\u001b[0m\n",
      "\u001b[0;32m~/anaconda3/lib/python3.7/site-packages/pandas/core/ops/array_ops.py\u001b[0m in \u001b[0;36mcomparison_op\u001b[0;34m(left, right, op)\u001b[0m\n\u001b[1;32m    245\u001b[0m \u001b[0;34m\u001b[0m\u001b[0m\n\u001b[1;32m    246\u001b[0m     \u001b[0;32melif\u001b[0m \u001b[0mis_object_dtype\u001b[0m\u001b[0;34m(\u001b[0m\u001b[0mlvalues\u001b[0m\u001b[0;34m.\u001b[0m\u001b[0mdtype\u001b[0m\u001b[0;34m)\u001b[0m\u001b[0;34m:\u001b[0m\u001b[0;34m\u001b[0m\u001b[0;34m\u001b[0m\u001b[0m\n\u001b[0;32m--> 247\u001b[0;31m         \u001b[0mres_values\u001b[0m \u001b[0;34m=\u001b[0m \u001b[0mcomp_method_OBJECT_ARRAY\u001b[0m\u001b[0;34m(\u001b[0m\u001b[0mop\u001b[0m\u001b[0;34m,\u001b[0m \u001b[0mlvalues\u001b[0m\u001b[0;34m,\u001b[0m \u001b[0mrvalues\u001b[0m\u001b[0;34m)\u001b[0m\u001b[0;34m\u001b[0m\u001b[0;34m\u001b[0m\u001b[0m\n\u001b[0m\u001b[1;32m    248\u001b[0m \u001b[0;34m\u001b[0m\u001b[0m\n\u001b[1;32m    249\u001b[0m     \u001b[0;32melse\u001b[0m\u001b[0;34m:\u001b[0m\u001b[0;34m\u001b[0m\u001b[0;34m\u001b[0m\u001b[0m\n",
      "\u001b[0;32m~/anaconda3/lib/python3.7/site-packages/pandas/core/ops/array_ops.py\u001b[0m in \u001b[0;36mcomp_method_OBJECT_ARRAY\u001b[0;34m(op, x, y)\u001b[0m\n\u001b[1;32m     55\u001b[0m         \u001b[0mresult\u001b[0m \u001b[0;34m=\u001b[0m \u001b[0mlibops\u001b[0m\u001b[0;34m.\u001b[0m\u001b[0mvec_compare\u001b[0m\u001b[0;34m(\u001b[0m\u001b[0mx\u001b[0m\u001b[0;34m.\u001b[0m\u001b[0mravel\u001b[0m\u001b[0;34m(\u001b[0m\u001b[0;34m)\u001b[0m\u001b[0;34m,\u001b[0m \u001b[0my\u001b[0m\u001b[0;34m,\u001b[0m \u001b[0mop\u001b[0m\u001b[0;34m)\u001b[0m\u001b[0;34m\u001b[0m\u001b[0;34m\u001b[0m\u001b[0m\n\u001b[1;32m     56\u001b[0m     \u001b[0;32melse\u001b[0m\u001b[0;34m:\u001b[0m\u001b[0;34m\u001b[0m\u001b[0;34m\u001b[0m\u001b[0m\n\u001b[0;32m---> 57\u001b[0;31m         \u001b[0mresult\u001b[0m \u001b[0;34m=\u001b[0m \u001b[0mlibops\u001b[0m\u001b[0;34m.\u001b[0m\u001b[0mscalar_compare\u001b[0m\u001b[0;34m(\u001b[0m\u001b[0mx\u001b[0m\u001b[0;34m.\u001b[0m\u001b[0mravel\u001b[0m\u001b[0;34m(\u001b[0m\u001b[0;34m)\u001b[0m\u001b[0;34m,\u001b[0m \u001b[0my\u001b[0m\u001b[0;34m,\u001b[0m \u001b[0mop\u001b[0m\u001b[0;34m)\u001b[0m\u001b[0;34m\u001b[0m\u001b[0;34m\u001b[0m\u001b[0m\n\u001b[0m\u001b[1;32m     58\u001b[0m     \u001b[0;32mreturn\u001b[0m \u001b[0mresult\u001b[0m\u001b[0;34m.\u001b[0m\u001b[0mreshape\u001b[0m\u001b[0;34m(\u001b[0m\u001b[0mx\u001b[0m\u001b[0;34m.\u001b[0m\u001b[0mshape\u001b[0m\u001b[0;34m)\u001b[0m\u001b[0;34m\u001b[0m\u001b[0;34m\u001b[0m\u001b[0m\n\u001b[1;32m     59\u001b[0m \u001b[0;34m\u001b[0m\u001b[0m\n",
      "\u001b[0;32mpandas/_libs/ops.pyx\u001b[0m in \u001b[0;36mpandas._libs.ops.scalar_compare\u001b[0;34m()\u001b[0m\n",
      "\u001b[0;31mTypeError\u001b[0m: '<' not supported between instances of 'str' and 'int'"
     ]
    }
   ],
   "source": [
    "sentences.plot.pie(y='category')"
   ]
  },
  {
   "cell_type": "code",
   "execution_count": null,
   "metadata": {},
   "outputs": [],
   "source": []
  }
 ],
 "metadata": {
  "language_info": {
   "codemirror_mode": {
    "name": "ipython",
    "version": 3
   },
   "file_extension": ".py",
   "mimetype": "text/x-python",
   "name": "python",
   "nbconvert_exporter": "python",
   "pygments_lexer": "ipython3",
   "version": "3.7.6-final"
  },
  "orig_nbformat": 2,
  "kernelspec": {
   "name": "python_defaultSpec_1593491705721",
   "display_name": "Python 3.7.6 64-bit ('base': conda)"
  }
 },
 "nbformat": 4,
 "nbformat_minor": 2
}